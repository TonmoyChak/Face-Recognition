{
 "cells": [
  {
   "cell_type": "code",
   "execution_count": 2,
   "id": "40063081",
   "metadata": {},
   "outputs": [],
   "source": [
    "import numpy as np\n",
    "import cv2\n",
    "import pandas as pd\n",
    "import os\n",
    "import pickle"
   ]
  },
  {
   "cell_type": "markdown",
   "id": "e5614ceb",
   "metadata": {},
   "source": [
    "# Face Detection Model\n",
    "- Load the model"
   ]
  },
  {
   "cell_type": "code",
   "execution_count": 3,
   "id": "e2bad67d",
   "metadata": {},
   "outputs": [],
   "source": [
    "face_detection_model = './models/res10_300x300_ssd_iter_140000.caffemodel'\n",
    "face_detection_proto = './models/deploy.prototxt.txt'\n",
    "face_descriptor = './models/openface.nn4.small2.v1.t7'\n",
    "# Load models using cv2 dnn\n",
    "detector_model = cv2.dnn.readNetFromCaffe(face_detection_proto,face_detection_model)\n",
    "description_model = cv2.dnn.readNetFromTorch(face_descriptor)"
   ]
  },
  {
   "cell_type": "code",
   "execution_count": 4,
   "id": "dac5c127",
   "metadata": {},
   "outputs": [
    {
     "name": "stdout",
     "output_type": "stream",
     "text": [
      " Volume in drive C is OS\n",
      " Volume Serial Number is 30EA-83F7\n",
      "\n",
      " Directory of C:\\Face Recogniation App\\Face-Recognition\\4_machine learning\\images\n",
      "\n",
      "11/21/2021  09:56 PM    <DIR>          .\n",
      "11/21/2021  09:56 PM    <DIR>          ..\n",
      "11/21/2021  09:56 PM    <DIR>          Cristiano Ronaldo\n",
      "11/21/2021  09:56 PM    <DIR>          Elon Musk\n",
      "11/21/2021  09:56 PM    <DIR>          Lionel Messi\n",
      "               0 File(s)              0 bytes\n",
      "               5 Dir(s)  284,372,959,232 bytes free\n"
     ]
    }
   ],
   "source": [
    "!dir images"
   ]
  },
  {
   "cell_type": "code",
   "execution_count": 5,
   "id": "cb5a2c95",
   "metadata": {},
   "outputs": [],
   "source": [
    "# consider sample image\n",
    "img = cv2.imread('./images/Lionel Messi/0001.jpg')\n",
    "cv2.imshow('Messi',img)\n",
    "cv2.waitKey(0)\n",
    "cv2.destroyAllWindows()"
   ]
  },
  {
   "cell_type": "code",
   "execution_count": 8,
   "id": "8b06f4b3",
   "metadata": {},
   "outputs": [
    {
     "name": "stdout",
     "output_type": "stream",
     "text": [
      "[[-0.04718732  0.04816238 -0.056452   -0.03970181 -0.04276372  0.18095522\n",
      "  -0.05769016  0.02517243 -0.11138194  0.02155512  0.05111357  0.03491261\n",
      "   0.13795444 -0.11987813 -0.09860422 -0.01073743 -0.11638693  0.04015779\n",
      "  -0.04672619  0.14451848  0.1402016  -0.16665484  0.08067489  0.03537824\n",
      "  -0.05430248  0.09978048 -0.07699743 -0.23078501  0.04759276 -0.03128274\n",
      "   0.08104167  0.04306683 -0.02533654  0.04038205 -0.02755932  0.06046939\n",
      "  -0.06568137  0.18582103 -0.00651497 -0.01857661  0.04106737 -0.12262488\n",
      "  -0.06101248  0.12105981 -0.12960309 -0.15393344  0.19805875 -0.0110271\n",
      "  -0.17299302  0.00909187 -0.02604421 -0.05663255 -0.07220165  0.05882016\n",
      "   0.05739852  0.02792654  0.04914029  0.0703489   0.01966189 -0.21799366\n",
      "  -0.07755356  0.0053152   0.20848563 -0.0866185   0.10708746 -0.03900015\n",
      "   0.04769563 -0.00710586 -0.01790116  0.04864058 -0.05201461  0.04575072\n",
      "  -0.04867734  0.06203473  0.06836265 -0.10475557 -0.08750702  0.1026828\n",
      "   0.03839073  0.0699624  -0.14235938  0.00127476  0.02618123 -0.02274684\n",
      "  -0.1116486   0.04436247  0.11101897  0.08342371  0.10564881 -0.07322864\n",
      "   0.04278551 -0.09809194  0.02193953 -0.03245727 -0.05710194 -0.10327015\n",
      "   0.00589512  0.20009921 -0.06748436 -0.00584734 -0.03700544  0.02598897\n",
      "  -0.05213732  0.13523883  0.02289058  0.09806727 -0.05507039  0.13313866\n",
      "   0.03782006 -0.10583606 -0.1128959   0.13297749 -0.10965053 -0.02320672\n",
      "   0.05219531  0.00906451 -0.06355665 -0.1724377   0.06845756  0.10702839\n",
      "   0.01315142 -0.05852699  0.02570081 -0.00955224 -0.07823044  0.04665424\n",
      "  -0.00941869  0.08769862]]\n"
     ]
    }
   ],
   "source": [
    "# step-1: face detection \n",
    "image =  img.copy()\n",
    "h,w = image.shape[:2]\n",
    "img_blob = cv2.dnn.blobFromImage(image,1,(300,300),(104,177,123),swapRB=False,crop =False)\n",
    "# set the input\n",
    "detector_model.setInput(img_blob)\n",
    "detections = detector_model.forward()\n",
    "\n",
    "if len(detections) >0:\n",
    "    i = np.argmax(detections[0,0,:,2]) # consider the face with max confidence score \n",
    "    confidence = detections[0,0,i,2]\n",
    "    if confidence >0.5:\n",
    "        box = detections[0,0,i,3:7]*np.array([w,h,w,h])\n",
    "        (startx,starty,endx,endy) = box.astype('int')\n",
    "        # just for reference: draw bounding \n",
    "#         img_draw = image.copy()\n",
    "#         cv2.rectangle(img_draw,(startx,starty),(endx,endy),(0,255,0))\n",
    "\n",
    "        # step -2: feauture extraction or embedding\n",
    "        roi = image[starty:endy,startx:endx].copy()\n",
    "        # get the face descriptors\n",
    "        faceblob = cv2.dnn.blobFromImage(roi,1/255,(96,96),(0,0,0),swapRB = True,crop = True)\n",
    "        description_model.setInput(faceblob)\n",
    "        vectors = description_model.forward()\n",
    "        print(vectors)\n",
    "        \n",
    "# cv2.imshow('sample',img)\n",
    "# cv2.imshow('draw_image',img_draw)\n",
    "# cv2.waitKey(0)\n",
    "# cv2.destroyAllWindows()"
   ]
  },
  {
   "cell_type": "code",
   "execution_count": null,
   "id": "2a772f19",
   "metadata": {},
   "outputs": [],
   "source": []
  }
 ],
 "metadata": {
  "kernelspec": {
   "display_name": "Python 3 (ipykernel)",
   "language": "python",
   "name": "python3"
  },
  "language_info": {
   "codemirror_mode": {
    "name": "ipython",
    "version": 3
   },
   "file_extension": ".py",
   "mimetype": "text/x-python",
   "name": "python",
   "nbconvert_exporter": "python",
   "pygments_lexer": "ipython3",
   "version": "3.9.7"
  }
 },
 "nbformat": 4,
 "nbformat_minor": 5
}
