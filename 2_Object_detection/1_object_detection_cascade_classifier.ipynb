{
 "cells": [
  {
   "cell_type": "code",
   "execution_count": 1,
   "id": "1886c271",
   "metadata": {},
   "outputs": [],
   "source": [
    "import numpy as np\n",
    "import cv2"
   ]
  },
  {
   "cell_type": "markdown",
   "id": "535413d2",
   "metadata": {},
   "source": [
    "# Face Detection"
   ]
  },
  {
   "cell_type": "code",
   "execution_count": 3,
   "id": "9fb0ad49",
   "metadata": {},
   "outputs": [],
   "source": [
    "img = cv2.imread('./images/0021.jpg')\n",
    "\n",
    "cv2.imshow('image',img)\n",
    "cv2.waitKey(0)\n",
    "cv2.destroyAllWindows()"
   ]
  },
  {
   "cell_type": "code",
   "execution_count": 4,
   "id": "50717993",
   "metadata": {},
   "outputs": [],
   "source": [
    "# Load cascade classifier - frontalface\n",
    "\n",
    "face_cascade = cv2.CascadeClassifier('./cascade_classifiere/haarcascade_frontalface_default.xml')"
   ]
  },
  {
   "cell_type": "code",
   "execution_count": 5,
   "id": "cd32eb9b",
   "metadata": {},
   "outputs": [],
   "source": [
    "# apply cascade classifier to an image\n",
    "faces,num_detection = face_cascade.detectMultiScale2(img)"
   ]
  },
  {
   "cell_type": "code",
   "execution_count": 6,
   "id": "bd0ab410",
   "metadata": {},
   "outputs": [
    {
     "name": "stdout",
     "output_type": "stream",
     "text": [
      "[[114  40 196 196]]\n"
     ]
    }
   ],
   "source": [
    "print(faces)"
   ]
  },
  {
   "cell_type": "code",
   "execution_count": 7,
   "id": "6e26d3dc",
   "metadata": {},
   "outputs": [
    {
     "name": "stdout",
     "output_type": "stream",
     "text": [
      "[89]\n"
     ]
    }
   ],
   "source": [
    "print(num_detection)"
   ]
  },
  {
   "cell_type": "code",
   "execution_count": null,
   "id": "a2e03f83",
   "metadata": {},
   "outputs": [],
   "source": []
  }
 ],
 "metadata": {
  "kernelspec": {
   "display_name": "Python 3 (ipykernel)",
   "language": "python",
   "name": "python3"
  },
  "language_info": {
   "codemirror_mode": {
    "name": "ipython",
    "version": 3
   },
   "file_extension": ".py",
   "mimetype": "text/x-python",
   "name": "python",
   "nbconvert_exporter": "python",
   "pygments_lexer": "ipython3",
   "version": "3.10.0"
  }
 },
 "nbformat": 4,
 "nbformat_minor": 5
}
