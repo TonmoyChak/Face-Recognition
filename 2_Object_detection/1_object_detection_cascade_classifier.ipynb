{
 "cells": [
  {
   "cell_type": "code",
   "execution_count": 1,
   "id": "ce6240cb",
   "metadata": {},
   "outputs": [],
   "source": [
    "import numpy as np\n",
    "import cv2"
   ]
  },
  {
   "cell_type": "markdown",
   "id": "b9326965",
   "metadata": {},
   "source": [
    "# Face Detection"
   ]
  },
  {
   "cell_type": "code",
   "execution_count": 3,
   "id": "159b73d6",
   "metadata": {},
   "outputs": [],
   "source": [
    "img = cv2.imread('./images/0021.jpg')\n",
    "\n",
    "cv2.imshow('image',img)\n",
    "cv2.waitKey(0)\n",
    "cv2.destroyAllWindows()"
   ]
  },
  {
   "cell_type": "code",
   "execution_count": 4,
   "id": "0283f3e9",
   "metadata": {},
   "outputs": [],
   "source": [
    "# Load cascade classifier - frontalface\n",
    "\n",
    "face_cascade = cv2.CascadeClassifier('./cascade_classifiere/haarcascade_frontalface_default.xml')"
   ]
  },
  {
   "cell_type": "code",
   "execution_count": 5,
   "id": "ae1cf621",
   "metadata": {},
   "outputs": [],
   "source": [
    "# apply cascade classifier to an image\n",
    "faces,num_detection = face_cascade.detectMultiScale2(img)"
   ]
  },
  {
   "cell_type": "code",
   "execution_count": 6,
   "id": "00643fab",
   "metadata": {},
   "outputs": [
    {
     "name": "stdout",
     "output_type": "stream",
     "text": [
      "[[114  40 196 196]]\n"
     ]
    }
   ],
   "source": [
    "print(faces)"
   ]
  },
  {
   "cell_type": "code",
   "execution_count": 7,
   "id": "90de1b3c",
   "metadata": {},
   "outputs": [
    {
     "name": "stdout",
     "output_type": "stream",
     "text": [
      "[89]\n"
     ]
    }
   ],
   "source": [
    "print(num_detection)"
   ]
  },
  {
   "cell_type": "code",
   "execution_count": 8,
   "id": "d68d876b",
   "metadata": {},
   "outputs": [],
   "source": [
    "pt1 =(114,40)\n",
    "pt2 = (114+196, 40+196)\n",
    "# draw the rectangle \n",
    "cv2.rectangle(img,pt1,pt2,(0,255,0))\n",
    "cv2.imshow('face detection',img)\n",
    "cv2.waitKey(0)\n",
    "cv2.destroyAllWindows()"
   ]
  },
  {
   "cell_type": "code",
   "execution_count": 10,
   "id": "771ebd1a",
   "metadata": {},
   "outputs": [],
   "source": [
    "# draw the circle\n",
    "cx = 114 + 196//2\n",
    "cy = 40+ 196 //2\n",
    "r = 196 //2\n",
    "\n",
    "cv2.circle(img,(cx,cy),r,(0,255,255),2)\n",
    "cv2.imshow('face detection circle',img)\n",
    "cv2.waitKey(0)\n",
    "cv2.destroyAllWindows()"
   ]
  },
  {
   "cell_type": "markdown",
   "id": "d78a23dc",
   "metadata": {},
   "source": [
    "# Multiple  Face Detection"
   ]
  },
  {
   "cell_type": "code",
   "execution_count": 11,
   "id": "12f581fd",
   "metadata": {},
   "outputs": [],
   "source": [
    "img = cv2.imread('./images/friends.jpg')\n",
    "\n",
    "cv2.imshow('image',img)\n",
    "cv2.waitKey(0)\n",
    "cv2.destroyAllWindows()"
   ]
  },
  {
   "cell_type": "code",
   "execution_count": 16,
   "id": "f7e19af4",
   "metadata": {},
   "outputs": [],
   "source": [
    "# Load cascade classifier - frontalface\n",
    "\n",
    "face_cascade = cv2.CascadeClassifier('./cascade_classifiere/haarcascade_frontalface_default.xml')\n",
    "\n",
    "# step-1: apply cascade classifier to an image\n",
    "faces, num_detection = face_cascade.detectMultiScale2(img,minNeighbors=8)\n",
    "# step-2: run a loop\n",
    "for x,y,w,h in faces:\n",
    "    cv2.rectangle(img,(x,y),(x+w,y+h),(0,255,0))\n",
    "\n",
    "# step 3: display the image\n",
    "cv2.imshow('face detection',img)\n",
    "cv2.waitKey(0)\n",
    "cv2.destroyAllWindows()\n"
   ]
  },
  {
   "cell_type": "code",
   "execution_count": 15,
   "id": "ffc90b43",
   "metadata": {},
   "outputs": [
    {
     "name": "stdout",
     "output_type": "stream",
     "text": [
      "[104  84  71]\n"
     ]
    }
   ],
   "source": [
    "print(num_detection)"
   ]
  },
  {
   "cell_type": "code",
   "execution_count": null,
   "id": "67dce0f6",
   "metadata": {},
   "outputs": [],
   "source": []
  }
 ],
 "metadata": {
  "kernelspec": {
   "display_name": "Python 3 (ipykernel)",
   "language": "python",
   "name": "python3"
  },
  "language_info": {
   "codemirror_mode": {
    "name": "ipython",
    "version": 3
   },
   "file_extension": ".py",
   "mimetype": "text/x-python",
   "name": "python",
   "nbconvert_exporter": "python",
   "pygments_lexer": "ipython3",
   "version": "3.10.0"
  }
 },
 "nbformat": 4,
 "nbformat_minor": 5
}
