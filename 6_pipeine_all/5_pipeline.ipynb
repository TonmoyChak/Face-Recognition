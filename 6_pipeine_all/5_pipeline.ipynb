{
 "cells": [
  {
   "cell_type": "markdown",
   "id": "d5e7063d",
   "metadata": {},
   "source": [
    "# pipeline all models "
   ]
  },
  {
   "cell_type": "code",
   "execution_count": 1,
   "id": "7691cd5c",
   "metadata": {},
   "outputs": [],
   "source": [
    "import numpy as np\n",
    "import cv2\n",
    "import sklearn\n",
    "import pickle"
   ]
  },
  {
   "cell_type": "code",
   "execution_count": null,
   "id": "26386cc6",
   "metadata": {},
   "outputs": [],
   "source": [
    "# face detection\n",
    "\n",
    "# feature extraction\n",
    "\n",
    "# face recognition \n",
    "\n",
    "# emotion recogniation model"
   ]
  }
 ],
 "metadata": {
  "kernelspec": {
   "display_name": "Python 3 (ipykernel)",
   "language": "python",
   "name": "python3"
  },
  "language_info": {
   "codemirror_mode": {
    "name": "ipython",
    "version": 3
   },
   "file_extension": ".py",
   "mimetype": "text/x-python",
   "name": "python",
   "nbconvert_exporter": "python",
   "pygments_lexer": "ipython3",
   "version": "3.9.7"
  }
 },
 "nbformat": 4,
 "nbformat_minor": 5
}
