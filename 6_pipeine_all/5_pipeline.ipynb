{
 "cells": [
  {
   "cell_type": "markdown",
   "id": "d5e7063d",
   "metadata": {},
   "source": [
    "# pipeline all models "
   ]
  },
  {
   "cell_type": "code",
   "execution_count": 1,
   "id": "7691cd5c",
   "metadata": {},
   "outputs": [],
   "source": [
    "import numpy as np\n",
    "import cv2\n",
    "import sklearn\n",
    "import pickle"
   ]
  },
  {
   "cell_type": "code",
   "execution_count": 6,
   "id": "26386cc6",
   "metadata": {},
   "outputs": [],
   "source": [
    "# face detection\n",
    "face_detector_model = cv2.dnn.readNetFromCaffe('./models/deploy.prototxt.txt'\n",
    "                                               ,'./models/res10_300x300_ssd_iter_140000.caffemodel')\n",
    "# # feature extraction\n",
    "face_feature_model = cv2.dnn.readNetFromTorch('./models/openface.nn4.small2.v1.t7')\n",
    "# # face recognition \n",
    "face_recogniation_model = pickle.load(open('./models/machinelearning_face_person_identity.pkl',mode ='rb'))\n",
    "# # emotion recogniation model\n",
    "emotion_recognition_model = pickle.load(open('./models/machinelearning_face_emotion.pkl',mode ='rb'))"
   ]
  },
  {
   "cell_type": "code",
   "execution_count": 9,
   "id": "28cf7386",
   "metadata": {},
   "outputs": [],
   "source": [
    "# pipeline model\n",
    "img = cv2.imread('./data/test_images.jpg')\n",
    "image = img.copy()\n",
    "h,w = img.shape[:2]\n",
    "# face detection \n",
    "img_blob = cv2.dnn.blobFromImage(img,1,(300,300),(104,177,123),swapRB= False,crop=False)\n",
    "face_detector_model.setInput(img_blob)\n",
    "detections = face_detector_model.forward()\n",
    "\n",
    "if len(detections) > 0:\n",
    "    for i , confidence in enumerate(detections[0,0,:,2]):\n",
    "        if confidence > 0.5:\n",
    "            box = detections[0,0,i,3:7]*np.array([w,h,w,h])\n",
    "            startx,starty,endx,endy = box.astype(int)\n",
    "            \n",
    "            cv2.rectangle(image,(startx,starty),(endx,endy),(0,255,0))\n",
    "\n",
    "\n",
    "cv2.imshow('pipeline',img)\n",
    "cv2.waitKey(0)\n",
    "cv2.destroyAllWindows()"
   ]
  },
  {
   "cell_type": "code",
   "execution_count": null,
   "id": "33885de4",
   "metadata": {},
   "outputs": [],
   "source": []
  }
 ],
 "metadata": {
  "kernelspec": {
   "display_name": "Python 3 (ipykernel)",
   "language": "python",
   "name": "python3"
  },
  "language_info": {
   "codemirror_mode": {
    "name": "ipython",
    "version": 3
   },
   "file_extension": ".py",
   "mimetype": "text/x-python",
   "name": "python",
   "nbconvert_exporter": "python",
   "pygments_lexer": "ipython3",
   "version": "3.10.0"
  }
 },
 "nbformat": 4,
 "nbformat_minor": 5
}
