{
 "cells": [
  {
   "cell_type": "markdown",
   "id": "d5e7063d",
   "metadata": {},
   "source": [
    "# pipeline all models "
   ]
  },
  {
   "cell_type": "code",
   "execution_count": 1,
   "id": "7691cd5c",
   "metadata": {},
   "outputs": [],
   "source": [
    "import numpy as np\n",
    "import cv2\n",
    "import sklearn\n",
    "import pickle"
   ]
  },
  {
   "cell_type": "code",
   "execution_count": 2,
   "id": "26386cc6",
   "metadata": {},
   "outputs": [
    {
     "name": "stderr",
     "output_type": "stream",
     "text": [
      "C:\\Users\\tonmo\\AppData\\Local\\Programs\\Python\\Python310\\lib\\site-packages\\sklearn\\base.py:324: UserWarning: Trying to unpickle estimator LogisticRegression from version 0.24.1 when using version 1.0.1. This might lead to breaking code or invalid results. Use at your own risk. For more info please refer to:\n",
      "https://scikit-learn.org/stable/modules/model_persistence.html#security-maintainability-limitations\n",
      "  warnings.warn(\n",
      "C:\\Users\\tonmo\\AppData\\Local\\Programs\\Python\\Python310\\lib\\site-packages\\sklearn\\base.py:324: UserWarning: Trying to unpickle estimator SVC from version 0.24.1 when using version 1.0.1. This might lead to breaking code or invalid results. Use at your own risk. For more info please refer to:\n",
      "https://scikit-learn.org/stable/modules/model_persistence.html#security-maintainability-limitations\n",
      "  warnings.warn(\n",
      "C:\\Users\\tonmo\\AppData\\Local\\Programs\\Python\\Python310\\lib\\site-packages\\sklearn\\base.py:324: UserWarning: Trying to unpickle estimator DecisionTreeClassifier from version 0.24.1 when using version 1.0.1. This might lead to breaking code or invalid results. Use at your own risk. For more info please refer to:\n",
      "https://scikit-learn.org/stable/modules/model_persistence.html#security-maintainability-limitations\n",
      "  warnings.warn(\n",
      "C:\\Users\\tonmo\\AppData\\Local\\Programs\\Python\\Python310\\lib\\site-packages\\sklearn\\base.py:324: UserWarning: Trying to unpickle estimator RandomForestClassifier from version 0.24.1 when using version 1.0.1. This might lead to breaking code or invalid results. Use at your own risk. For more info please refer to:\n",
      "https://scikit-learn.org/stable/modules/model_persistence.html#security-maintainability-limitations\n",
      "  warnings.warn(\n",
      "C:\\Users\\tonmo\\AppData\\Local\\Programs\\Python\\Python310\\lib\\site-packages\\sklearn\\base.py:324: UserWarning: Trying to unpickle estimator LabelEncoder from version 0.24.1 when using version 1.0.1. This might lead to breaking code or invalid results. Use at your own risk. For more info please refer to:\n",
      "https://scikit-learn.org/stable/modules/model_persistence.html#security-maintainability-limitations\n",
      "  warnings.warn(\n",
      "C:\\Users\\tonmo\\AppData\\Local\\Programs\\Python\\Python310\\lib\\site-packages\\sklearn\\base.py:324: UserWarning: Trying to unpickle estimator VotingClassifier from version 0.24.1 when using version 1.0.1. This might lead to breaking code or invalid results. Use at your own risk. For more info please refer to:\n",
      "https://scikit-learn.org/stable/modules/model_persistence.html#security-maintainability-limitations\n",
      "  warnings.warn(\n"
     ]
    }
   ],
   "source": [
    "# face detection\n",
    "face_detector_model = cv2.dnn.readNetFromCaffe('./models/deploy.prototxt.txt'\n",
    "                                               ,'./models/res10_300x300_ssd_iter_140000.caffemodel')\n",
    "# # feature extraction\n",
    "face_feature_model = cv2.dnn.readNetFromTorch('./models/openface.nn4.small2.v1.t7')\n",
    "# # face recognition \n",
    "face_recogniation_model = pickle.load(open('./models/machinelearning_face_person_identity.pkl',mode ='rb'))\n",
    "# # emotion recogniation model\n",
    "emotion_recognition_model = pickle.load(open('./models/machinelearning_face_emotion.pkl',mode ='rb'))"
   ]
  },
  {
   "cell_type": "code",
   "execution_count": 14,
   "id": "28cf7386",
   "metadata": {},
   "outputs": [],
   "source": [
    "def pipeline_model(path):   \n",
    "    # pipeline model\n",
    "    img = cv2.imread(path)\n",
    "    image = img.copy()\n",
    "    h,w = img.shape[:2]\n",
    "    # face detection \n",
    "    img_blob = cv2.dnn.blobFromImage(img,1,(300,300),(104,177,123),swapRB= False,crop=False)\n",
    "    face_detector_model.setInput(img_blob)\n",
    "    detections = face_detector_model.forward()\n",
    "    # Machine results\n",
    "    maxchinelearning_results = dict(face_detect_score = [],\n",
    "                                   face_name = [],\n",
    "                                   face_name_score = [],\n",
    "                                   emotion_name = [],\n",
    "                                   emotion_name_score = [],\n",
    "                                   count = [])\n",
    "    count = 1\n",
    "    if len(detections) > 0:\n",
    "        for i , confidence in enumerate(detections[0,0,:,2]):\n",
    "            if confidence > 0.5:\n",
    "                box = detections[0,0,i,3:7]*np.array([w,h,w,h])\n",
    "                startx,starty,endx,endy = box.astype(int)\n",
    "\n",
    "                cv2.rectangle(image,(startx,starty),(endx,endy),(0,255,0))\n",
    "\n",
    "                # feature extraction\n",
    "                face_roi = img[starty:endy,startx:endx]\n",
    "                face_blob = cv2.dnn.blobFromImage(face_roi,1/255,(96,96),(0,0,0),swapRB=True,crop=True)\n",
    "                face_feature_model.setInput(face_blob)\n",
    "                vectors = face_feature_model.forward()\n",
    "\n",
    "                # predict with machine learning \n",
    "                face_name = face_recogniation_model.predict(vectors)[0]\n",
    "                face_score = face_recogniation_model.predict_proba(vectors).max()\n",
    "                # Emotion \n",
    "                emotion_name = emotion_recognition_model.predict(vectors)[0]\n",
    "                emotion_score = emotion_recognition_model.predict_proba(vectors).max()\n",
    "\n",
    "\n",
    "\n",
    "                text_face = '{} : {:.0f} %'.format(face_name,100*face_score)\n",
    "                text_emotion = '{} : {:.0f} %'.format(emotion_name,100*emotion_score)\n",
    "                cv2.putText(image,text_face,(startx,starty),cv2.FONT_HERSHEY_PLAIN,2,(255,255,255),2)\n",
    "                cv2.putText(image,text_emotion,(startx,endy),cv2.FONT_HERSHEY_PLAIN,2,(255,255,255),2)\n",
    "                \n",
    "                maxchinelearning_results['count'].append(count)\n",
    "                maxchinelearning_results['face_detect_score'].append(confidence)\n",
    "                maxchinelearning_results['face_name'].append(face_name)\n",
    "                maxchinelearning_results['face_name_score'].append(face_score)\n",
    "                maxchinelearning_results['emotion_name'].append(emotion_name)\n",
    "                maxchinelearning_results['emotion_name_score'].append(emotion_score)\n",
    "                \n",
    "                count += 1\n",
    "                \n",
    "                \n",
    "                \n",
    "    return maxchinelearning_results"
   ]
  },
  {
   "cell_type": "code",
   "execution_count": 16,
   "id": "74685db9",
   "metadata": {},
   "outputs": [
    {
     "data": {
      "text/plain": [
       "{'face_detect_score': [0.99988604, 0.99967766, 0.87867624],\n",
       " 'face_name': ['Joe Biden', 'Donald Trump', 'Barack Obama'],\n",
       " 'face_name_score': [0.5972210042364045,\n",
       "  0.7419092413871872,\n",
       "  0.7842940592427031],\n",
       " 'emotion_name': ['happy', 'angry', 'neutral'],\n",
       " 'emotion_name_score': [0.2818403016341517,\n",
       "  0.2792173887857922,\n",
       "  0.33273031393414243],\n",
       " 'count': [1, 2, 3]}"
      ]
     },
     "execution_count": 16,
     "metadata": {},
     "output_type": "execute_result"
    }
   ],
   "source": [
    "results = pipeline_model('./data/joe_trump_obama.jpg')\n",
    "\n",
    "results"
   ]
  }
 ],
 "metadata": {
  "kernelspec": {
   "display_name": "Python 3 (ipykernel)",
   "language": "python",
   "name": "python3"
  },
  "language_info": {
   "codemirror_mode": {
    "name": "ipython",
    "version": 3
   },
   "file_extension": ".py",
   "mimetype": "text/x-python",
   "name": "python",
   "nbconvert_exporter": "python",
   "pygments_lexer": "ipython3",
   "version": "3.10.0"
  }
 },
 "nbformat": 4,
 "nbformat_minor": 5
}
