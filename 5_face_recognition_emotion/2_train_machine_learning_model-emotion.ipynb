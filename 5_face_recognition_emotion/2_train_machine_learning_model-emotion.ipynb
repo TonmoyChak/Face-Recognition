{
 "cells": [
  {
   "cell_type": "code",
   "execution_count": 1,
   "id": "48cdc668",
   "metadata": {},
   "outputs": [],
   "source": [
    "import numpy as np\n",
    "import pandas as pd\n",
    "import pickle"
   ]
  },
  {
   "cell_type": "markdown",
   "id": "80a7a44d",
   "metadata": {},
   "source": [
    "# 1.Data\n",
    "- Load data from pickle file \n",
    "- split the data into independent and dependent \n",
    "- split to train and test set"
   ]
  },
  {
   "cell_type": "code",
   "execution_count": 2,
   "id": "b071d5a2",
   "metadata": {},
   "outputs": [],
   "source": [
    "data = pickle.load(open('data_face_features_emotion.pickle',mode='rb'))"
   ]
  },
  {
   "cell_type": "code",
   "execution_count": 3,
   "id": "2a5d3dc7",
   "metadata": {},
   "outputs": [],
   "source": [
    "x = np.array(data['data']) # independent vriable\n",
    "y = np.array(data ['label']) # dependent variable"
   ]
  },
  {
   "cell_type": "code",
   "execution_count": 4,
   "id": "7f7fb172",
   "metadata": {},
   "outputs": [
    {
     "data": {
      "text/plain": [
       "((1413, 1, 128), (1413,))"
      ]
     },
     "execution_count": 4,
     "metadata": {},
     "output_type": "execute_result"
    }
   ],
   "source": [
    "x.shape, y.shape"
   ]
  },
  {
   "cell_type": "code",
   "execution_count": 5,
   "id": "1ee6434e",
   "metadata": {},
   "outputs": [
    {
     "data": {
      "text/plain": [
       "(1413, 128)"
      ]
     },
     "execution_count": 5,
     "metadata": {},
     "output_type": "execute_result"
    }
   ],
   "source": [
    "x = x.reshape(-1,128)\n",
    "x.shape"
   ]
  },
  {
   "cell_type": "code",
   "execution_count": 6,
   "id": "a563f2ca",
   "metadata": {},
   "outputs": [],
   "source": [
    "# split the data into train and test\n",
    "from sklearn.model_selection import train_test_split"
   ]
  },
  {
   "cell_type": "code",
   "execution_count": 7,
   "id": "9721ef07",
   "metadata": {},
   "outputs": [],
   "source": [
    "x_train,x_test,y_train,y_test = train_test_split(x,y,train_size=0.8,random_state=0)"
   ]
  },
  {
   "cell_type": "code",
   "execution_count": 8,
   "id": "83467870",
   "metadata": {},
   "outputs": [
    {
     "data": {
      "text/plain": [
       "((1130, 128), (283, 128), (1130,), (283,))"
      ]
     },
     "execution_count": 8,
     "metadata": {},
     "output_type": "execute_result"
    }
   ],
   "source": [
    "x_train.shape, x_test.shape, y_train.shape,y_test.shape"
   ]
  },
  {
   "cell_type": "markdown",
   "id": "5b2186db",
   "metadata": {},
   "source": [
    "# 2. Train Machine learning"
   ]
  },
  {
   "cell_type": "code",
   "execution_count": 9,
   "id": "84e96f53",
   "metadata": {},
   "outputs": [],
   "source": [
    "from sklearn.linear_model import LogisticRegression\n",
    "from sklearn.svm import SVC\n",
    "from sklearn.ensemble import RandomForestClassifier\n",
    "from sklearn.ensemble import VotingClassifier\n",
    "from sklearn.metrics import classification_report,accuracy_score,f1_score"
   ]
  },
  {
   "cell_type": "markdown",
   "id": "541ec21b",
   "metadata": {},
   "source": [
    "### Logistic Regression "
   ]
  },
  {
   "cell_type": "code",
   "execution_count": 10,
   "id": "61e5943d",
   "metadata": {},
   "outputs": [
    {
     "data": {
      "text/plain": [
       "LogisticRegression()"
      ]
     },
     "execution_count": 10,
     "metadata": {},
     "output_type": "execute_result"
    }
   ],
   "source": [
    "model_logistic = LogisticRegression()\n",
    "model_logistic.fit(x_train,y_train) # training Logistic regression"
   ]
  },
  {
   "cell_type": "code",
   "execution_count": 11,
   "id": "8f01f27d",
   "metadata": {},
   "outputs": [],
   "source": [
    "def get_report(model, x_train,y_train,x_test,y_test):  \n",
    "    y_pred_train = model.predict(x_train)\n",
    "    y_pred_test = model.predict(x_test)\n",
    "\n",
    "    # accuracy score \n",
    "    acc_train = accuracy_score(y_train,y_pred_train)\n",
    "    acc_test = accuracy_score(y_test,y_pred_test)\n",
    "\n",
    "    # f1 score \n",
    "    f1_score_train = f1_score(y_train,y_pred_train,average='macro')\n",
    "    f1_score_test= f1_score(y_test,y_pred_test,average='macro')\n",
    "\n",
    "\n",
    "    print('Accuracy Train = %0.2f'%acc_train)\n",
    "    print('Accuracy Test = %0.2f'%acc_test)\n",
    "    print('F1 score Train = %0.2f'%f1_score_train)\n",
    "    print('F1 score Test = %0.2f'%f1_score_test)"
   ]
  },
  {
   "cell_type": "code",
   "execution_count": 12,
   "id": "707774ef",
   "metadata": {},
   "outputs": [
    {
     "name": "stdout",
     "output_type": "stream",
     "text": [
      "Accuracy Train = 0.31\n",
      "Accuracy Test = 0.23\n",
      "F1 score Train = 0.23\n",
      "F1 score Test = 0.18\n"
     ]
    }
   ],
   "source": [
    "get_report(model_logistic,x_train,y_train,x_test,y_test)"
   ]
  },
  {
   "cell_type": "markdown",
   "id": "dd8084d6",
   "metadata": {},
   "source": [
    "# support vector machines "
   ]
  },
  {
   "cell_type": "code",
   "execution_count": 13,
   "id": "3fe666fa",
   "metadata": {},
   "outputs": [
    {
     "data": {
      "text/plain": [
       "SVC(probability=True)"
      ]
     },
     "execution_count": 13,
     "metadata": {},
     "output_type": "execute_result"
    }
   ],
   "source": [
    "model_svc = SVC(probability=True)\n",
    "model_svc.fit(x_train,y_train)"
   ]
  },
  {
   "cell_type": "code",
   "execution_count": 14,
   "id": "44091ed3",
   "metadata": {},
   "outputs": [
    {
     "name": "stdout",
     "output_type": "stream",
     "text": [
      "Accuracy Train = 0.42\n",
      "Accuracy Test = 0.25\n",
      "F1 score Train = 0.32\n",
      "F1 score Test = 0.17\n"
     ]
    }
   ],
   "source": [
    "get_report(model_svc,x_train,y_train,x_test,y_test)"
   ]
  },
  {
   "cell_type": "markdown",
   "id": "6e205ebe",
   "metadata": {},
   "source": [
    "# Random Forest"
   ]
  },
  {
   "cell_type": "code",
   "execution_count": 15,
   "id": "4417ed28",
   "metadata": {},
   "outputs": [
    {
     "data": {
      "text/plain": [
       "RandomForestClassifier(n_estimators=10)"
      ]
     },
     "execution_count": 15,
     "metadata": {},
     "output_type": "execute_result"
    }
   ],
   "source": [
    "model_rf = RandomForestClassifier(n_estimators=10)\n",
    "model_rf.fit(x_train,y_train)"
   ]
  },
  {
   "cell_type": "code",
   "execution_count": 30,
   "id": "1e7c6297",
   "metadata": {},
   "outputs": [
    {
     "name": "stdout",
     "output_type": "stream",
     "text": [
      "Accuracy Train = 1.00\n",
      "Accuracy Test = 0.45\n",
      "F1 score Train = 1.00\n",
      "F1 score Test = 0.46\n"
     ]
    }
   ],
   "source": [
    "get_report(model_rf,x_train,y_train,x_test,y_test)"
   ]
  },
  {
   "cell_type": "markdown",
   "id": "9096e714",
   "metadata": {},
   "source": [
    "# Voting Classifier"
   ]
  },
  {
   "cell_type": "code",
   "execution_count": 17,
   "id": "24cf4fc2",
   "metadata": {},
   "outputs": [],
   "source": [
    "model_voting= VotingClassifier(estimators=[\n",
    "    ('logistic',LogisticRegression()),\n",
    "    ('svm',SVC(probability=True)),\n",
    "    ('rf',RandomForestClassifier())\n",
    "], voting='soft',weights=[2,3,1])"
   ]
  },
  {
   "cell_type": "code",
   "execution_count": 18,
   "id": "d73f5143",
   "metadata": {},
   "outputs": [
    {
     "data": {
      "text/plain": [
       "VotingClassifier(estimators=[('logistic', LogisticRegression()),\n",
       "                             ('svm', SVC(probability=True)),\n",
       "                             ('rf', RandomForestClassifier())],\n",
       "                 voting='soft', weights=[2, 3, 1])"
      ]
     },
     "execution_count": 18,
     "metadata": {},
     "output_type": "execute_result"
    }
   ],
   "source": [
    "model_voting.fit(x_train,y_train)"
   ]
  },
  {
   "cell_type": "code",
   "execution_count": 31,
   "id": "d6b96d02",
   "metadata": {},
   "outputs": [
    {
     "name": "stdout",
     "output_type": "stream",
     "text": [
      "Accuracy Train = 0.84\n",
      "Accuracy Test = 0.40\n",
      "F1 score Train = 0.85\n",
      "F1 score Test = 0.38\n"
     ]
    }
   ],
   "source": [
    "get_report(model_voting,x_train,y_train,x_test,y_test)"
   ]
  },
  {
   "cell_type": "markdown",
   "id": "74fb4d06",
   "metadata": {},
   "source": [
    "# Parameter Tuning"
   ]
  },
  {
   "cell_type": "code",
   "execution_count": 35,
   "id": "84f427c7",
   "metadata": {},
   "outputs": [],
   "source": [
    "from sklearn.model_selection import GridSearchCV"
   ]
  },
  {
   "cell_type": "code",
   "execution_count": 36,
   "id": "252dc798",
   "metadata": {},
   "outputs": [],
   "source": [
    "model_grid = GridSearchCV(model_voting,\n",
    "                         param_grid={\n",
    "                             'svm__C':[3,5,7,10],\n",
    "                             'svm__gamma':[0.1,0.3,0.5],\n",
    "                             'rf__n_estimators':[5,10,20],\n",
    "                             'rf__max_depth':[3,5,7],\n",
    "                             'voting':['soft','hard']\n",
    "                         },scoring='accuracy',cv=3,n_jobs=1,verbose=2)"
   ]
  },
  {
   "cell_type": "code",
   "execution_count": 37,
   "id": "277c2b47",
   "metadata": {
    "scrolled": true
   },
   "outputs": [
    {
     "name": "stdout",
     "output_type": "stream",
     "text": [
      "Fitting 3 folds for each of 216 candidates, totalling 648 fits\n",
      "[CV] END rf__max_depth=3, rf__n_estimators=5, svm__C=3, svm__gamma=0.1, voting=soft; total time=   0.5s\n",
      "[CV] END rf__max_depth=3, rf__n_estimators=5, svm__C=3, svm__gamma=0.1, voting=soft; total time=   0.5s\n",
      "[CV] END rf__max_depth=3, rf__n_estimators=5, svm__C=3, svm__gamma=0.1, voting=soft; total time=   0.5s\n",
      "[CV] END rf__max_depth=3, rf__n_estimators=5, svm__C=3, svm__gamma=0.1, voting=hard; total time=   0.5s\n",
      "[CV] END rf__max_depth=3, rf__n_estimators=5, svm__C=3, svm__gamma=0.1, voting=hard; total time=   0.6s\n",
      "[CV] END rf__max_depth=3, rf__n_estimators=5, svm__C=3, svm__gamma=0.1, voting=hard; total time=   0.5s\n",
      "[CV] END rf__max_depth=3, rf__n_estimators=5, svm__C=3, svm__gamma=0.3, voting=soft; total time=   0.5s\n",
      "[CV] END rf__max_depth=3, rf__n_estimators=5, svm__C=3, svm__gamma=0.3, voting=soft; total time=   0.5s\n",
      "[CV] END rf__max_depth=3, rf__n_estimators=5, svm__C=3, svm__gamma=0.3, voting=soft; total time=   0.5s\n",
      "[CV] END rf__max_depth=3, rf__n_estimators=5, svm__C=3, svm__gamma=0.3, voting=hard; total time=   0.6s\n",
      "[CV] END rf__max_depth=3, rf__n_estimators=5, svm__C=3, svm__gamma=0.3, voting=hard; total time=   0.5s\n",
      "[CV] END rf__max_depth=3, rf__n_estimators=5, svm__C=3, svm__gamma=0.3, voting=hard; total time=   0.5s\n",
      "[CV] END rf__max_depth=3, rf__n_estimators=5, svm__C=3, svm__gamma=0.5, voting=soft; total time=   0.5s\n",
      "[CV] END rf__max_depth=3, rf__n_estimators=5, svm__C=3, svm__gamma=0.5, voting=soft; total time=   0.5s\n",
      "[CV] END rf__max_depth=3, rf__n_estimators=5, svm__C=3, svm__gamma=0.5, voting=soft; total time=   0.5s\n",
      "[CV] END rf__max_depth=3, rf__n_estimators=5, svm__C=3, svm__gamma=0.5, voting=hard; total time=   0.5s\n",
      "[CV] END rf__max_depth=3, rf__n_estimators=5, svm__C=3, svm__gamma=0.5, voting=hard; total time=   0.5s\n",
      "[CV] END rf__max_depth=3, rf__n_estimators=5, svm__C=3, svm__gamma=0.5, voting=hard; total time=   0.5s\n",
      "[CV] END rf__max_depth=3, rf__n_estimators=5, svm__C=5, svm__gamma=0.1, voting=soft; total time=   0.5s\n",
      "[CV] END rf__max_depth=3, rf__n_estimators=5, svm__C=5, svm__gamma=0.1, voting=soft; total time=   0.5s\n",
      "[CV] END rf__max_depth=3, rf__n_estimators=5, svm__C=5, svm__gamma=0.1, voting=soft; total time=   0.5s\n",
      "[CV] END rf__max_depth=3, rf__n_estimators=5, svm__C=5, svm__gamma=0.1, voting=hard; total time=   0.5s\n",
      "[CV] END rf__max_depth=3, rf__n_estimators=5, svm__C=5, svm__gamma=0.1, voting=hard; total time=   0.5s\n",
      "[CV] END rf__max_depth=3, rf__n_estimators=5, svm__C=5, svm__gamma=0.1, voting=hard; total time=   0.5s\n",
      "[CV] END rf__max_depth=3, rf__n_estimators=5, svm__C=5, svm__gamma=0.3, voting=soft; total time=   0.5s\n",
      "[CV] END rf__max_depth=3, rf__n_estimators=5, svm__C=5, svm__gamma=0.3, voting=soft; total time=   0.5s\n",
      "[CV] END rf__max_depth=3, rf__n_estimators=5, svm__C=5, svm__gamma=0.3, voting=soft; total time=   0.5s\n",
      "[CV] END rf__max_depth=3, rf__n_estimators=5, svm__C=5, svm__gamma=0.3, voting=hard; total time=   0.5s\n",
      "[CV] END rf__max_depth=3, rf__n_estimators=5, svm__C=5, svm__gamma=0.3, voting=hard; total time=   0.6s\n",
      "[CV] END rf__max_depth=3, rf__n_estimators=5, svm__C=5, svm__gamma=0.3, voting=hard; total time=   0.6s\n",
      "[CV] END rf__max_depth=3, rf__n_estimators=5, svm__C=5, svm__gamma=0.5, voting=soft; total time=   0.5s\n",
      "[CV] END rf__max_depth=3, rf__n_estimators=5, svm__C=5, svm__gamma=0.5, voting=soft; total time=   0.6s\n",
      "[CV] END rf__max_depth=3, rf__n_estimators=5, svm__C=5, svm__gamma=0.5, voting=soft; total time=   0.6s\n",
      "[CV] END rf__max_depth=3, rf__n_estimators=5, svm__C=5, svm__gamma=0.5, voting=hard; total time=   0.5s\n",
      "[CV] END rf__max_depth=3, rf__n_estimators=5, svm__C=5, svm__gamma=0.5, voting=hard; total time=   0.6s\n",
      "[CV] END rf__max_depth=3, rf__n_estimators=5, svm__C=5, svm__gamma=0.5, voting=hard; total time=   0.6s\n",
      "[CV] END rf__max_depth=3, rf__n_estimators=5, svm__C=7, svm__gamma=0.1, voting=soft; total time=   0.6s\n",
      "[CV] END rf__max_depth=3, rf__n_estimators=5, svm__C=7, svm__gamma=0.1, voting=soft; total time=   0.6s\n",
      "[CV] END rf__max_depth=3, rf__n_estimators=5, svm__C=7, svm__gamma=0.1, voting=soft; total time=   0.8s\n",
      "[CV] END rf__max_depth=3, rf__n_estimators=5, svm__C=7, svm__gamma=0.1, voting=hard; total time=   0.8s\n",
      "[CV] END rf__max_depth=3, rf__n_estimators=5, svm__C=7, svm__gamma=0.1, voting=hard; total time=   0.7s\n",
      "[CV] END rf__max_depth=3, rf__n_estimators=5, svm__C=7, svm__gamma=0.1, voting=hard; total time=   0.6s\n",
      "[CV] END rf__max_depth=3, rf__n_estimators=5, svm__C=7, svm__gamma=0.3, voting=soft; total time=   0.7s\n",
      "[CV] END rf__max_depth=3, rf__n_estimators=5, svm__C=7, svm__gamma=0.3, voting=soft; total time=   0.6s\n",
      "[CV] END rf__max_depth=3, rf__n_estimators=5, svm__C=7, svm__gamma=0.3, voting=soft; total time=   0.6s\n",
      "[CV] END rf__max_depth=3, rf__n_estimators=5, svm__C=7, svm__gamma=0.3, voting=hard; total time=   0.6s\n",
      "[CV] END rf__max_depth=3, rf__n_estimators=5, svm__C=7, svm__gamma=0.3, voting=hard; total time=   0.6s\n",
      "[CV] END rf__max_depth=3, rf__n_estimators=5, svm__C=7, svm__gamma=0.3, voting=hard; total time=   0.5s\n",
      "[CV] END rf__max_depth=3, rf__n_estimators=5, svm__C=7, svm__gamma=0.5, voting=soft; total time=   0.5s\n",
      "[CV] END rf__max_depth=3, rf__n_estimators=5, svm__C=7, svm__gamma=0.5, voting=soft; total time=   0.5s\n",
      "[CV] END rf__max_depth=3, rf__n_estimators=5, svm__C=7, svm__gamma=0.5, voting=soft; total time=   0.5s\n",
      "[CV] END rf__max_depth=3, rf__n_estimators=5, svm__C=7, svm__gamma=0.5, voting=hard; total time=   0.5s\n",
      "[CV] END rf__max_depth=3, rf__n_estimators=5, svm__C=7, svm__gamma=0.5, voting=hard; total time=   0.5s\n",
      "[CV] END rf__max_depth=3, rf__n_estimators=5, svm__C=7, svm__gamma=0.5, voting=hard; total time=   0.5s\n",
      "[CV] END rf__max_depth=3, rf__n_estimators=5, svm__C=10, svm__gamma=0.1, voting=soft; total time=   0.5s\n",
      "[CV] END rf__max_depth=3, rf__n_estimators=5, svm__C=10, svm__gamma=0.1, voting=soft; total time=   0.6s\n",
      "[CV] END rf__max_depth=3, rf__n_estimators=5, svm__C=10, svm__gamma=0.1, voting=soft; total time=   0.5s\n",
      "[CV] END rf__max_depth=3, rf__n_estimators=5, svm__C=10, svm__gamma=0.1, voting=hard; total time=   0.5s\n",
      "[CV] END rf__max_depth=3, rf__n_estimators=5, svm__C=10, svm__gamma=0.1, voting=hard; total time=   0.6s\n",
      "[CV] END rf__max_depth=3, rf__n_estimators=5, svm__C=10, svm__gamma=0.1, voting=hard; total time=   0.5s\n",
      "[CV] END rf__max_depth=3, rf__n_estimators=5, svm__C=10, svm__gamma=0.3, voting=soft; total time=   0.5s\n",
      "[CV] END rf__max_depth=3, rf__n_estimators=5, svm__C=10, svm__gamma=0.3, voting=soft; total time=   0.5s\n",
      "[CV] END rf__max_depth=3, rf__n_estimators=5, svm__C=10, svm__gamma=0.3, voting=soft; total time=   0.5s\n",
      "[CV] END rf__max_depth=3, rf__n_estimators=5, svm__C=10, svm__gamma=0.3, voting=hard; total time=   0.5s\n",
      "[CV] END rf__max_depth=3, rf__n_estimators=5, svm__C=10, svm__gamma=0.3, voting=hard; total time=   0.5s\n",
      "[CV] END rf__max_depth=3, rf__n_estimators=5, svm__C=10, svm__gamma=0.3, voting=hard; total time=   0.5s\n",
      "[CV] END rf__max_depth=3, rf__n_estimators=5, svm__C=10, svm__gamma=0.5, voting=soft; total time=   0.5s\n",
      "[CV] END rf__max_depth=3, rf__n_estimators=5, svm__C=10, svm__gamma=0.5, voting=soft; total time=   0.5s\n",
      "[CV] END rf__max_depth=3, rf__n_estimators=5, svm__C=10, svm__gamma=0.5, voting=soft; total time=   0.5s\n",
      "[CV] END rf__max_depth=3, rf__n_estimators=5, svm__C=10, svm__gamma=0.5, voting=hard; total time=   0.5s\n",
      "[CV] END rf__max_depth=3, rf__n_estimators=5, svm__C=10, svm__gamma=0.5, voting=hard; total time=   0.5s\n",
      "[CV] END rf__max_depth=3, rf__n_estimators=5, svm__C=10, svm__gamma=0.5, voting=hard; total time=   0.5s\n",
      "[CV] END rf__max_depth=3, rf__n_estimators=10, svm__C=3, svm__gamma=0.1, voting=soft; total time=   0.5s\n",
      "[CV] END rf__max_depth=3, rf__n_estimators=10, svm__C=3, svm__gamma=0.1, voting=soft; total time=   0.5s\n",
      "[CV] END rf__max_depth=3, rf__n_estimators=10, svm__C=3, svm__gamma=0.1, voting=soft; total time=   0.5s\n",
      "[CV] END rf__max_depth=3, rf__n_estimators=10, svm__C=3, svm__gamma=0.1, voting=hard; total time=   0.5s\n",
      "[CV] END rf__max_depth=3, rf__n_estimators=10, svm__C=3, svm__gamma=0.1, voting=hard; total time=   0.5s\n",
      "[CV] END rf__max_depth=3, rf__n_estimators=10, svm__C=3, svm__gamma=0.1, voting=hard; total time=   0.5s\n"
     ]
    },
    {
     "name": "stdout",
     "output_type": "stream",
     "text": [
      "[CV] END rf__max_depth=3, rf__n_estimators=10, svm__C=3, svm__gamma=0.3, voting=soft; total time=   0.5s\n",
      "[CV] END rf__max_depth=3, rf__n_estimators=10, svm__C=3, svm__gamma=0.3, voting=soft; total time=   0.7s\n",
      "[CV] END rf__max_depth=3, rf__n_estimators=10, svm__C=3, svm__gamma=0.3, voting=soft; total time=   0.7s\n",
      "[CV] END rf__max_depth=3, rf__n_estimators=10, svm__C=3, svm__gamma=0.3, voting=hard; total time=   0.6s\n",
      "[CV] END rf__max_depth=3, rf__n_estimators=10, svm__C=3, svm__gamma=0.3, voting=hard; total time=   0.6s\n",
      "[CV] END rf__max_depth=3, rf__n_estimators=10, svm__C=3, svm__gamma=0.3, voting=hard; total time=   0.8s\n",
      "[CV] END rf__max_depth=3, rf__n_estimators=10, svm__C=3, svm__gamma=0.5, voting=soft; total time=   0.5s\n",
      "[CV] END rf__max_depth=3, rf__n_estimators=10, svm__C=3, svm__gamma=0.5, voting=soft; total time=   0.6s\n",
      "[CV] END rf__max_depth=3, rf__n_estimators=10, svm__C=3, svm__gamma=0.5, voting=soft; total time=   0.5s\n",
      "[CV] END rf__max_depth=3, rf__n_estimators=10, svm__C=3, svm__gamma=0.5, voting=hard; total time=   0.5s\n",
      "[CV] END rf__max_depth=3, rf__n_estimators=10, svm__C=3, svm__gamma=0.5, voting=hard; total time=   0.6s\n",
      "[CV] END rf__max_depth=3, rf__n_estimators=10, svm__C=3, svm__gamma=0.5, voting=hard; total time=   0.6s\n",
      "[CV] END rf__max_depth=3, rf__n_estimators=10, svm__C=5, svm__gamma=0.1, voting=soft; total time=   0.6s\n",
      "[CV] END rf__max_depth=3, rf__n_estimators=10, svm__C=5, svm__gamma=0.1, voting=soft; total time=   0.6s\n",
      "[CV] END rf__max_depth=3, rf__n_estimators=10, svm__C=5, svm__gamma=0.1, voting=soft; total time=   0.6s\n",
      "[CV] END rf__max_depth=3, rf__n_estimators=10, svm__C=5, svm__gamma=0.1, voting=hard; total time=   0.5s\n",
      "[CV] END rf__max_depth=3, rf__n_estimators=10, svm__C=5, svm__gamma=0.1, voting=hard; total time=   0.7s\n",
      "[CV] END rf__max"
     ]
    },
    {
     "data": {
      "text/html": [
       "<b>limit_output extension: Maximum message size of 10000 exceeded with 10089 characters</b>"
      ]
     },
     "metadata": {},
     "output_type": "display_data"
    }
   ],
   "source": [
    "model_grid.fit(x_train,y_train)"
   ]
  },
  {
   "cell_type": "code",
   "execution_count": null,
   "id": "6336f66a",
   "metadata": {},
   "outputs": [],
   "source": [
    "model_best_estimator = model_grid.best_estimator_"
   ]
  },
  {
   "cell_type": "code",
   "execution_count": null,
   "id": "94a6145d",
   "metadata": {},
   "outputs": [],
   "source": [
    "model_grid.best_score_"
   ]
  },
  {
   "cell_type": "markdown",
   "id": "84dada98",
   "metadata": {},
   "source": [
    "# 4. save model"
   ]
  },
  {
   "cell_type": "code",
   "execution_count": 46,
   "id": "996156ba",
   "metadata": {},
   "outputs": [],
   "source": [
    "pickle.dump(model_best_estimator,open('./models/machinelearning_face_person_identity.pkl',mode='wb'))"
   ]
  }
 ],
 "metadata": {
  "kernelspec": {
   "display_name": "Python 3 (ipykernel)",
   "language": "python",
   "name": "python3"
  },
  "language_info": {
   "codemirror_mode": {
    "name": "ipython",
    "version": 3
   },
   "file_extension": ".py",
   "mimetype": "text/x-python",
   "name": "python",
   "nbconvert_exporter": "python",
   "pygments_lexer": "ipython3",
   "version": "3.9.7"
  }
 },
 "nbformat": 4,
 "nbformat_minor": 5
}
