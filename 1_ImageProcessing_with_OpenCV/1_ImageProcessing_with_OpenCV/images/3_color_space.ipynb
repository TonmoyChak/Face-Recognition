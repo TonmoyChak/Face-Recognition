{
 "cells": [
  {
   "cell_type": "code",
   "execution_count": 2,
   "id": "c905ffd2",
   "metadata": {},
   "outputs": [],
   "source": [
    "import numpy as np\n",
    "import cv2"
   ]
  },
  {
   "cell_type": "code",
   "execution_count": 10,
   "id": "9500f39a",
   "metadata": {},
   "outputs": [],
   "source": [
    "img = cv2.imread('./3_cars.jpg') # bgr"
   ]
  },
  {
   "cell_type": "code",
   "execution_count": 8,
   "id": "f190157f",
   "metadata": {},
   "outputs": [],
   "source": [
    "cv2.imshow('original_image',img)\n",
    "cv2.waitKey(0)\n",
    "cv2.destroyAllWindows()"
   ]
  },
  {
   "cell_type": "code",
   "execution_count": 9,
   "id": "e520c395",
   "metadata": {},
   "outputs": [
    {
     "data": {
      "text/plain": [
       "(795, 1200, 3)"
      ]
     },
     "execution_count": 9,
     "metadata": {},
     "output_type": "execute_result"
    }
   ],
   "source": [
    "img.shape"
   ]
  },
  {
   "cell_type": "code",
   "execution_count": 11,
   "id": "5b558cb1",
   "metadata": {},
   "outputs": [],
   "source": [
    "b,g,r = cv2.split(img)"
   ]
  },
  {
   "cell_type": "code",
   "execution_count": 12,
   "id": "e880db41",
   "metadata": {},
   "outputs": [
    {
     "name": "stdout",
     "output_type": "stream",
     "text": [
      "[[43 33 36 ... 19 27 39]\n",
      " [28 12 11 ...  2  7 20]\n",
      " [28 15 16 ...  3 12 25]\n",
      " ...\n",
      " [60 49 48 ... 27 33 43]\n",
      " [58 48 47 ... 27 33 43]\n",
      " [75 64 63 ... 44 50 60]]\n"
     ]
    }
   ],
   "source": [
    "print(b)"
   ]
  },
  {
   "cell_type": "code",
   "execution_count": 14,
   "id": "21a0d6ac",
   "metadata": {},
   "outputs": [
    {
     "data": {
      "text/plain": [
       "((795, 1200), (795, 1200), (795, 1200))"
      ]
     },
     "execution_count": 14,
     "metadata": {},
     "output_type": "execute_result"
    }
   ],
   "source": [
    "b.shape,g.shape,r.shape"
   ]
  },
  {
   "cell_type": "code",
   "execution_count": 16,
   "id": "0ac894b5",
   "metadata": {},
   "outputs": [],
   "source": [
    "cv2.imshow('blue image',b)\n",
    "cv2.imshow('green_image',g)\n",
    "cv2.imshow('red_image',r)\n",
    "cv2.imshow('original',img)\n",
    "cv2.waitKey(0)\n",
    "cv2.destroyAllWindows()"
   ]
  },
  {
   "cell_type": "markdown",
   "id": "ce2e6ee7",
   "metadata": {},
   "source": [
    "# Convert Color"
   ]
  },
  {
   "cell_type": "code",
   "execution_count": 6,
   "id": "235b2ec4",
   "metadata": {},
   "outputs": [],
   "source": [
    "img1 = cv2.imread('./beach.jpg')  # bgr"
   ]
  },
  {
   "cell_type": "code",
   "execution_count": 7,
   "id": "1710ca2a",
   "metadata": {},
   "outputs": [],
   "source": [
    "cv2.imshow('orginal-bgr',img1)\n",
    "cv2.waitKey(0)\n",
    "cv2.destroyAllWindows()"
   ]
  },
  {
   "cell_type": "code",
   "execution_count": null,
   "id": "72488458",
   "metadata": {},
   "outputs": [],
   "source": [
    "# 1. BGR to gray\n",
    "gray = cv2.cvtColor(img1,cv2.COLOR_BGR2GRAY)\n",
    "\n",
    "# 2. BGR to RGB \n",
    "\n",
    "\n",
    "# 3. BGR to HSV\n",
    "\n",
    "\n",
    "# 4. BGR to LAB\n",
    "\n"
   ]
  }
 ],
 "metadata": {
  "kernelspec": {
   "display_name": "Python 3 (ipykernel)",
   "language": "python",
   "name": "python3"
  },
  "language_info": {
   "codemirror_mode": {
    "name": "ipython",
    "version": 3
   },
   "file_extension": ".py",
   "mimetype": "text/x-python",
   "name": "python",
   "nbconvert_exporter": "python",
   "pygments_lexer": "ipython3",
   "version": "3.10.0"
  }
 },
 "nbformat": 4,
 "nbformat_minor": 5
}
