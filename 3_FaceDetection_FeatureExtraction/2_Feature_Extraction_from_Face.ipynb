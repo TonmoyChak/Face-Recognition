{
 "cells": [
  {
   "cell_type": "code",
   "execution_count": 1,
   "id": "f3790bc8",
   "metadata": {},
   "outputs": [],
   "source": [
    "import numpy as np\n",
    "import cv2\n",
    "import dlib\n",
    "from imutils import face_utils"
   ]
  },
  {
   "cell_type": "code",
   "execution_count": 2,
   "id": "fdc1fe42",
   "metadata": {},
   "outputs": [],
   "source": [
    "img =cv2.imread('./images/girl.png')\n",
    "\n",
    "cv2.imshow('girl',img)\n",
    "cv2.waitKey(0)\n",
    "cv2.destroyAllWindows()"
   ]
  },
  {
   "cell_type": "code",
   "execution_count": 5,
   "id": "784a8476",
   "metadata": {},
   "outputs": [],
   "source": [
    "# shape predictor \n",
    "shape_predictor = dlib.shape_predictor('./models/shape_predictor_68_face_landmarks.dat')\n",
    "# face descriptor\n",
    "shape_descriptor = dlib.face_recognition_model_v1('./models/dlib_face_recognition_resnet_model_v1.dat')"
   ]
  },
  {
   "cell_type": "code",
   "execution_count": null,
   "id": "982fd6ef",
   "metadata": {},
   "outputs": [],
   "source": []
  },
  {
   "cell_type": "code",
   "execution_count": 11,
   "id": "a9c456aa",
   "metadata": {},
   "outputs": [
    {
     "name": "stdout",
     "output_type": "stream",
     "text": [
      "[[113 249]\n",
      " [112 281]\n",
      " [115 314]\n",
      " [122 345]\n",
      " [135 375]\n",
      " [154 401]\n",
      " [177 424]\n",
      " [203 442]\n",
      " [231 447]\n",
      " [260 443]\n",
      " [286 426]\n",
      " [308 404]\n",
      " [324 378]\n",
      " [336 348]\n",
      " [343 316]\n",
      " [347 282]\n",
      " [346 251]\n",
      " [123 223]\n",
      " [138 210]\n",
      " [161 208]\n",
      " [184 211]\n",
      " [205 220]\n",
      " [241 220]\n",
      " [263 211]\n",
      " [288 208]\n",
      " [313 210]\n",
      " [333 222]\n",
      " [224 248]\n",
      " [225 272]\n",
      " [225 295]\n",
      " [225 319]\n",
      " [201 337]\n",
      " [213 340]\n",
      " [226 343]\n",
      " [239 340]\n",
      " [252 336]\n",
      " [144 248]\n",
      " [158 239]\n",
      " [174 240]\n",
      " [188 254]\n",
      " [172 255]\n",
      " [155 254]\n",
      " [263 254]\n",
      " [276 240]\n",
      " [293 238]\n",
      " [309 247]\n",
      " [295 254]\n",
      " [277 255]\n",
      " [185 377]\n",
      " [200 370]\n",
      " [215 364]\n",
      " [226 367]\n",
      " [237 364]\n",
      " [254 370]\n",
      " [273 377]\n",
      " [255 392]\n",
      " [239 399]\n",
      " [227 400]\n",
      " [215 399]\n",
      " [200 391]\n",
      " [193 378]\n",
      " [215 378]\n",
      " [227 380]\n",
      " [238 378]\n",
      " [266 378]\n",
      " [238 381]\n",
      " [227 382]\n",
      " [215 380]]\n"
     ]
    }
   ],
   "source": [
    "# step -1 face Detection\n",
    "image =img.copy()\n",
    "face_detector = dlib.get_frontal_face_detector()\n",
    "\n",
    "faces = face_detector(image)\n",
    "for box in faces:\n",
    "    pt1 = box.left(), box.top()\n",
    "    pt2 = box.right(), box.bottom()\n",
    "    \n",
    "    face_shape = shape_predictor(image,box)\n",
    "    face_shape_array = face_utils.shape_to_np(face_shape)\n",
    "    face_descriptor = shape_descriptor.compute_face_descriptor(image,face_shape)\n",
    "    \n",
    "    print(face_shape_array)\n",
    "    for points in face_shape_array:\n",
    "        cv2.circle(image,tuple(points),3,(0,255,0),-1)\n",
    "    \n",
    "    cv2.rectangle(image,pt1,pt2,(0,255,0))\n",
    "    \n",
    "cv2.imshow('girl face detection',image)\n",
    "cv2.waitKey(0)\n",
    "cv2.destroyAllWindows()"
   ]
  },
  {
   "cell_type": "code",
   "execution_count": 14,
   "id": "53f9c9a0",
   "metadata": {},
   "outputs": [
    {
     "data": {
      "text/plain": [
       "128"
      ]
     },
     "execution_count": 14,
     "metadata": {},
     "output_type": "execute_result"
    }
   ],
   "source": [
    "len(np.array(face_descriptor))"
   ]
  }
 ],
 "metadata": {
  "kernelspec": {
   "display_name": "Python 3 (ipykernel)",
   "language": "python",
   "name": "python3"
  },
  "language_info": {
   "codemirror_mode": {
    "name": "ipython",
    "version": 3
   },
   "file_extension": ".py",
   "mimetype": "text/x-python",
   "name": "python",
   "nbconvert_exporter": "python",
   "pygments_lexer": "ipython3",
   "version": "3.7.11"
  }
 },
 "nbformat": 4,
 "nbformat_minor": 5
}
