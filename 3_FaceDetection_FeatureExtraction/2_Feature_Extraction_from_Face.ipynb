{
 "cells": [
  {
   "cell_type": "code",
   "execution_count": 1,
   "id": "f3790bc8",
   "metadata": {},
   "outputs": [],
   "source": [
    "import numpy as np\n",
    "import cv2\n",
    "import dlib"
   ]
  },
  {
   "cell_type": "code",
   "execution_count": 5,
   "id": "fdc1fe42",
   "metadata": {},
   "outputs": [],
   "source": [
    "img =cv2.imread('./images/girl.png')\n",
    "\n",
    "cv2.imshow('girl',img)\n",
    "cv2.waitKey(0)\n",
    "cv2.destroyAllWindows()"
   ]
  },
  {
   "cell_type": "code",
   "execution_count": 2,
   "id": "784a8476",
   "metadata": {},
   "outputs": [],
   "source": [
    "# shape predictor \n",
    "shape_predictor = dlib.shape_predictor('./models/shape_predictor_68_face_landmarks.dat')\n",
    "# face descriptor\n",
    "shape_descriptor = dlib.face_recognition_model_v1('./models/dlib_face_recognition_resnet_model_v1.dat')"
   ]
  },
  {
   "cell_type": "code",
   "execution_count": null,
   "id": "f7fbd29a",
   "metadata": {},
   "outputs": [],
   "source": []
  },
  {
   "cell_type": "code",
   "execution_count": null,
   "id": "084a920a",
   "metadata": {},
   "outputs": [],
   "source": [
    "# step -1 face Detection\n",
    "image =img.copy()\n",
    "face_detector = dlib.get_frontal_face_detector()\n",
    "\n",
    "faces = face_detector(image)"
   ]
  }
 ],
 "metadata": {
  "kernelspec": {
   "display_name": "Python 3 (ipykernel)",
   "language": "python",
   "name": "python3"
  },
  "language_info": {
   "codemirror_mode": {
    "name": "ipython",
    "version": 3
   },
   "file_extension": ".py",
   "mimetype": "text/x-python",
   "name": "python",
   "nbconvert_exporter": "python",
   "pygments_lexer": "ipython3",
   "version": "3.7.11"
  }
 },
 "nbformat": 4,
 "nbformat_minor": 5
}
