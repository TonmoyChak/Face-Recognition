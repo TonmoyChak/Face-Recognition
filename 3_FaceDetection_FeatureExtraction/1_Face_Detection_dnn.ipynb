{
 "cells": [
  {
   "cell_type": "code",
   "execution_count": 1,
   "id": "4ce4cfc9",
   "metadata": {},
   "outputs": [],
   "source": [
    "import numpy as np\n",
    "import cv2"
   ]
  },
  {
   "cell_type": "code",
   "execution_count": 2,
   "id": "e64826d6",
   "metadata": {},
   "outputs": [],
   "source": [
    "# Load the image \n",
    "img = cv2.imread('./images/faces.jpg')\n",
    "\n",
    "cv2.imshow('faces',img)\n",
    "cv2.waitKey(0)\n",
    "cv2.destroyAllWindows()"
   ]
  },
  {
   "cell_type": "code",
   "execution_count": 3,
   "id": "51186c5c",
   "metadata": {},
   "outputs": [],
   "source": [
    "# Load the model\n",
    "net = cv2.dnn.readNetFromCaffe('./models/deploy.prototxt.txt',\n",
    "                              './models/res10_300x300_ssd_iter_140000_fp16.caffemodel')"
   ]
  },
  {
   "cell_type": "code",
   "execution_count": 5,
   "id": "6ae7d2d7",
   "metadata": {},
   "outputs": [],
   "source": [
    "# extract blob\n",
    "blob = cv2.dnn.blobFromImage(img,1,(300,300),(104,177,123),swapRB=False)"
   ]
  },
  {
   "cell_type": "code",
   "execution_count": 6,
   "id": "9d0c0dc6",
   "metadata": {},
   "outputs": [],
   "source": [
    "# Set the blob as input \n",
    "net.setInput(blob)\n",
    "# run the model\n",
    "detections = net.forward()"
   ]
  },
  {
   "cell_type": "code",
   "execution_count": 7,
   "id": "6eb44a4b",
   "metadata": {},
   "outputs": [
    {
     "data": {
      "text/plain": [
       "(1, 1, 200, 7)"
      ]
     },
     "execution_count": 7,
     "metadata": {},
     "output_type": "execute_result"
    }
   ],
   "source": [
    "detections.shape"
   ]
  },
  {
   "cell_type": "code",
   "execution_count": null,
   "id": "ae4a3e60",
   "metadata": {},
   "outputs": [],
   "source": [
    "h,w = img.shape[:2]\n",
    "for i in range(0,detections.shape[2]):\n",
    "    confidence = detections[0,0,i,2]\n",
    "    if confidence >= 0.5:\n",
    "       # print(confidence)\n",
    "        # boundung box (3:7)\n",
    "        box = detections[0,0,i,3:7] # normalized bounding box values\n",
    "        box = box*np.array([w,h,w,h])\n",
    "        box = box.astype(int)\n",
    "        startx, starty , endx, endy = box\n",
    "        # draw the rectangle\n",
    "        cv2.rectangle(img,(startx,starty),(endx,endy),(0,255,0))\n",
    "        \n",
    "        # put text\n",
    "        text = 'Face: {:.2f} %'.format(confidence*100)\n",
    "        cv2.putText(img,text,(startx,starty-10),cv2.FONT_HERSHEY_PLAIN,1,(255,255,255),)\n",
    "        \n",
    "cv2.imshow('face detect',img)\n",
    "cv2.waitKey(0)\n",
    "cv2.destroyAllWindows()"
   ]
  },
  {
   "cell_type": "code",
   "execution_count": null,
   "id": "b9a537c8",
   "metadata": {},
   "outputs": [],
   "source": []
  }
 ],
 "metadata": {
  "kernelspec": {
   "display_name": "Python 3 (ipykernel)",
   "language": "python",
   "name": "python3"
  },
  "language_info": {
   "codemirror_mode": {
    "name": "ipython",
    "version": 3
   },
   "file_extension": ".py",
   "mimetype": "text/x-python",
   "name": "python",
   "nbconvert_exporter": "python",
   "pygments_lexer": "ipython3",
   "version": "3.10.0"
  }
 },
 "nbformat": 4,
 "nbformat_minor": 5
}
